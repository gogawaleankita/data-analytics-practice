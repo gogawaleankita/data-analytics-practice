{
 "cells": [
  {
   "cell_type": "markdown",
   "id": "4202d595",
   "metadata": {},
   "source": [
    "# Python lesson 1 "
   ]
  },
  {
   "cell_type": "markdown",
   "id": "aaf6a86a",
   "metadata": {},
   "source": [
    "First program "
   ]
  },
  {
   "cell_type": "code",
   "execution_count": 18,
   "id": "6b2ff15a",
   "metadata": {},
   "outputs": [],
   "source": [
    "x=12\n",
    "firstStr = \"My First prorgram \\n nbjg \"\n",
    "sendStr = \"nnknknkjn\"\n",
    "tirdStr = firstStr + sendStr + str(x)\n",
    "fourthStr = None"
   ]
  },
  {
   "cell_type": "markdown",
   "id": "676a2c3d",
   "metadata": {},
   "source": [
    "print Type of variable "
   ]
  },
  {
   "cell_type": "code",
   "execution_count": 19,
   "id": "81830e8d",
   "metadata": {},
   "outputs": [
    {
     "name": "stdout",
     "output_type": "stream",
     "text": [
      "<class 'int'>\n",
      "<class 'str'>\n",
      "<class 'str'>\n",
      "<class 'NoneType'>\n"
     ]
    }
   ],
   "source": [
    "print(type(x))\n",
    "print(type(firstStr))\n",
    "print(type(tirdStr))\n",
    "print(type(fourthStr))"
   ]
  },
  {
   "cell_type": "code",
   "execution_count": null,
   "id": "2ddf1cb0",
   "metadata": {},
   "outputs": [],
   "source": []
  }
 ],
 "metadata": {
  "kernelspec": {
   "display_name": "Python 3 (ipykernel)",
   "language": "python",
   "name": "python3"
  },
  "language_info": {
   "codemirror_mode": {
    "name": "ipython",
    "version": 3
   },
   "file_extension": ".py",
   "mimetype": "text/x-python",
   "name": "python",
   "nbconvert_exporter": "python",
   "pygments_lexer": "ipython3",
   "version": "3.9.12"
  }
 },
 "nbformat": 4,
 "nbformat_minor": 5
}
