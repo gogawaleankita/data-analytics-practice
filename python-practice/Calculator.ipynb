{
 "cells": [
  {
   "cell_type": "markdown",
   "id": "98e921a4",
   "metadata": {},
   "source": [
    "# Calclautor Demo"
   ]
  },
  {
   "cell_type": "code",
   "execution_count": 56,
   "id": "007ff9aa",
   "metadata": {},
   "outputs": [],
   "source": [
    "def selectOperation():\n",
    "    \n",
    "    choice = int( input(\"\\nChoose Operations\"\n",
    "                        +\"\\n1.Addition\"\n",
    "                        +\"\\n2.Subtraction\"\n",
    "                        +\"\\n3.Multiplication\"\n",
    "                        +\"\\n4.Division\"\n",
    "                        +\"\\n5.Power Function\"+\n",
    "                        \"\\n6.Flor Division\"\n",
    "                       ))\n",
    "    \n",
    "                 \n",
    "    \n",
    "    return   choice if choice in range(1,7) else 0\n"
   ]
  },
  {
   "cell_type": "code",
   "execution_count": 57,
   "id": "222fd7a2",
   "metadata": {},
   "outputs": [],
   "source": [
    "def perfromOperation(choice,a,b):\n",
    "    \n",
    "    out =0\n",
    "    if choice ==1:\n",
    "        out= a+b\n",
    "    elif choice ==2:\n",
    "            out =a-b\n",
    "    elif choice ==3:\n",
    "                out= a*b\n",
    "    elif choice == 4:\n",
    "        if b==0:\n",
    "                out= \"Infinity\"\n",
    "        else:\n",
    "            out = a/b\n",
    "    elif choice == 5:\n",
    "        if b==0:\n",
    "                 out= \"Infinity\"\n",
    "        else:\n",
    "            out = a**b\n",
    "    elif choice == 6:\n",
    "        out = a//b\n",
    "    else:\n",
    "            print(\"No valid Operation Available\")\n",
    "    return out \n",
    "    "
   ]
  },
  {
   "cell_type": "code",
   "execution_count": 59,
   "id": "88cd517d",
   "metadata": {},
   "outputs": [
    {
     "name": "stdout",
     "output_type": "stream",
     "text": [
      "Enter First Number: 12\n",
      "Enter Second Number: 3\n",
      "Choose Operations\n",
      "1.Addition\n",
      "2.Subtraction\n",
      "3.Multiplication\n",
      "4.Division\n",
      "5.Power Function\n",
      "6.Flor Division2\n",
      "output:  9\n",
      "Do you Want to Continue [Y/N]? Y\n",
      "Enter First Number: 12\n",
      "Enter Second Number: 4\n",
      "Choose Operations\n",
      "1.Addition\n",
      "2.Subtraction\n",
      "3.Multiplication\n",
      "4.Division\n",
      "5.Power Function\n",
      "6.Flor Division6\n",
      "output:  3\n",
      "Do you Want to Continue [Y/N]? N\n"
     ]
    }
   ],
   "source": [
    "choice1 = \"y\"\n",
    "while choice1 == \"Y\" or choice1 == \"y\":\n",
    "    a= int(input(\"Enter First Number: \"))\n",
    "    b= int(input(\"Enter Second Number: \"))\n",
    "    choice =selectOperation()\n",
    "    print( \"output: \", perfromOperation(choice,a,b))\n",
    "    choice1 = input(\"Do you Want to Continue [Y/N]? \\n\\n\")\n",
    "    "
   ]
  },
  {
   "cell_type": "code",
   "execution_count": null,
   "id": "67e451f8",
   "metadata": {},
   "outputs": [],
   "source": []
  }
 ],
 "metadata": {
  "kernelspec": {
   "display_name": "Python 3 (ipykernel)",
   "language": "python",
   "name": "python3"
  },
  "language_info": {
   "codemirror_mode": {
    "name": "ipython",
    "version": 3
   },
   "file_extension": ".py",
   "mimetype": "text/x-python",
   "name": "python",
   "nbconvert_exporter": "python",
   "pygments_lexer": "ipython3",
   "version": "3.9.12"
  }
 },
 "nbformat": 4,
 "nbformat_minor": 5
}
